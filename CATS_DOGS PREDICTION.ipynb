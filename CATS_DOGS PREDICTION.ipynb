{
 "cells": [
  {
   "cell_type": "code",
   "execution_count": 1,
   "id": "e406d5d5",
   "metadata": {},
   "outputs": [
    {
     "name": "stdout",
     "output_type": "stream",
     "text": [
      "Requirement already satisfied: keras in c:\\users\\hp\\anaconda3\\lib\\site-packages (2.13.1)\n",
      "Note: you may need to restart the kernel to use updated packages.\n"
     ]
    }
   ],
   "source": [
    "pip install keras"
   ]
  },
  {
   "cell_type": "code",
   "execution_count": 2,
   "id": "a5863475",
   "metadata": {},
   "outputs": [
    {
     "name": "stdout",
     "output_type": "stream",
     "text": [
      "Requirement already satisfied: tensorflow in c:\\users\\hp\\anaconda3\\lib\\site-packages (2.13.0)\n",
      "Requirement already satisfied: tensorflow-intel==2.13.0 in c:\\users\\hp\\anaconda3\\lib\\site-packages (from tensorflow) (2.13.0)\n",
      "Requirement already satisfied: protobuf!=4.21.0,!=4.21.1,!=4.21.2,!=4.21.3,!=4.21.4,!=4.21.5,<5.0.0dev,>=3.20.3 in c:\\users\\hp\\anaconda3\\lib\\site-packages (from tensorflow-intel==2.13.0->tensorflow) (4.24.0)\n",
      "Requirement already satisfied: h5py>=2.9.0 in c:\\users\\hp\\anaconda3\\lib\\site-packages (from tensorflow-intel==2.13.0->tensorflow) (3.6.0)\n",
      "Requirement already satisfied: keras<2.14,>=2.13.1 in c:\\users\\hp\\anaconda3\\lib\\site-packages (from tensorflow-intel==2.13.0->tensorflow) (2.13.1)\n",
      "Requirement already satisfied: gast<=0.4.0,>=0.2.1 in c:\\users\\hp\\anaconda3\\lib\\site-packages (from tensorflow-intel==2.13.0->tensorflow) (0.4.0)\n",
      "Requirement already satisfied: packaging in c:\\users\\hp\\anaconda3\\lib\\site-packages (from tensorflow-intel==2.13.0->tensorflow) (21.3)\n",
      "Requirement already satisfied: wrapt>=1.11.0 in c:\\users\\hp\\anaconda3\\lib\\site-packages (from tensorflow-intel==2.13.0->tensorflow) (1.12.1)\n",
      "Requirement already satisfied: opt-einsum>=2.3.2 in c:\\users\\hp\\anaconda3\\lib\\site-packages (from tensorflow-intel==2.13.0->tensorflow) (3.3.0)\n",
      "Requirement already satisfied: typing-extensions<4.6.0,>=3.6.6 in c:\\users\\hp\\anaconda3\\lib\\site-packages (from tensorflow-intel==2.13.0->tensorflow) (4.1.1)\n",
      "Requirement already satisfied: grpcio<2.0,>=1.24.3 in c:\\users\\hp\\anaconda3\\lib\\site-packages (from tensorflow-intel==2.13.0->tensorflow) (1.57.0)\n",
      "Requirement already satisfied: numpy<=1.24.3,>=1.22 in c:\\users\\hp\\anaconda3\\lib\\site-packages (from tensorflow-intel==2.13.0->tensorflow) (1.24.3)\n",
      "Requirement already satisfied: libclang>=13.0.0 in c:\\users\\hp\\anaconda3\\lib\\site-packages (from tensorflow-intel==2.13.0->tensorflow) (16.0.6)\n",
      "Requirement already satisfied: astunparse>=1.6.0 in c:\\users\\hp\\anaconda3\\lib\\site-packages (from tensorflow-intel==2.13.0->tensorflow) (1.6.3)\n",
      "Requirement already satisfied: six>=1.12.0 in c:\\users\\hp\\anaconda3\\lib\\site-packages (from tensorflow-intel==2.13.0->tensorflow) (1.16.0)\n",
      "Requirement already satisfied: tensorflow-estimator<2.14,>=2.13.0 in c:\\users\\hp\\anaconda3\\lib\\site-packages (from tensorflow-intel==2.13.0->tensorflow) (2.13.0)\n",
      "Requirement already satisfied: tensorboard<2.14,>=2.13 in c:\\users\\hp\\anaconda3\\lib\\site-packages (from tensorflow-intel==2.13.0->tensorflow) (2.13.0)\n",
      "Requirement already satisfied: google-pasta>=0.1.1 in c:\\users\\hp\\anaconda3\\lib\\site-packages (from tensorflow-intel==2.13.0->tensorflow) (0.2.0)\n",
      "Requirement already satisfied: flatbuffers>=23.1.21 in c:\\users\\hp\\anaconda3\\lib\\site-packages (from tensorflow-intel==2.13.0->tensorflow) (23.5.26)\n",
      "Requirement already satisfied: tensorflow-io-gcs-filesystem>=0.23.1 in c:\\users\\hp\\anaconda3\\lib\\site-packages (from tensorflow-intel==2.13.0->tensorflow) (0.31.0)\n",
      "Requirement already satisfied: setuptools in c:\\users\\hp\\anaconda3\\lib\\site-packages (from tensorflow-intel==2.13.0->tensorflow) (61.2.0)\n",
      "Requirement already satisfied: termcolor>=1.1.0 in c:\\users\\hp\\anaconda3\\lib\\site-packages (from tensorflow-intel==2.13.0->tensorflow) (2.3.0)\n",
      "Requirement already satisfied: absl-py>=1.0.0 in c:\\users\\hp\\anaconda3\\lib\\site-packages (from tensorflow-intel==2.13.0->tensorflow) (1.4.0)\n",
      "Requirement already satisfied: wheel<1.0,>=0.23.0 in c:\\users\\hp\\anaconda3\\lib\\site-packages (from astunparse>=1.6.0->tensorflow-intel==2.13.0->tensorflow) (0.37.1)\n",
      "Requirement already satisfied: google-auth<3,>=1.6.3 in c:\\users\\hp\\anaconda3\\lib\\site-packages (from tensorboard<2.14,>=2.13->tensorflow-intel==2.13.0->tensorflow) (2.22.0)\n",
      "Requirement already satisfied: werkzeug>=1.0.1 in c:\\users\\hp\\anaconda3\\lib\\site-packages (from tensorboard<2.14,>=2.13->tensorflow-intel==2.13.0->tensorflow) (2.0.3)\n",
      "Requirement already satisfied: requests<3,>=2.21.0 in c:\\users\\hp\\anaconda3\\lib\\site-packages (from tensorboard<2.14,>=2.13->tensorflow-intel==2.13.0->tensorflow) (2.27.1)\n",
      "Requirement already satisfied: google-auth-oauthlib<1.1,>=0.5 in c:\\users\\hp\\anaconda3\\lib\\site-packages (from tensorboard<2.14,>=2.13->tensorflow-intel==2.13.0->tensorflow) (1.0.0)\n",
      "Requirement already satisfied: markdown>=2.6.8 in c:\\users\\hp\\anaconda3\\lib\\site-packages (from tensorboard<2.14,>=2.13->tensorflow-intel==2.13.0->tensorflow) (3.3.4)\n",
      "Requirement already satisfied: tensorboard-data-server<0.8.0,>=0.7.0 in c:\\users\\hp\\anaconda3\\lib\\site-packages (from tensorboard<2.14,>=2.13->tensorflow-intel==2.13.0->tensorflow) (0.7.1)\n",
      "Requirement already satisfied: pyasn1-modules>=0.2.1 in c:\\users\\hp\\anaconda3\\lib\\site-packages (from google-auth<3,>=1.6.3->tensorboard<2.14,>=2.13->tensorflow-intel==2.13.0->tensorflow) (0.2.8)\n",
      "Requirement already satisfied: cachetools<6.0,>=2.0.0 in c:\\users\\hp\\anaconda3\\lib\\site-packages (from google-auth<3,>=1.6.3->tensorboard<2.14,>=2.13->tensorflow-intel==2.13.0->tensorflow) (4.2.2)\n",
      "Requirement already satisfied: rsa<5,>=3.1.4 in c:\\users\\hp\\anaconda3\\lib\\site-packages (from google-auth<3,>=1.6.3->tensorboard<2.14,>=2.13->tensorflow-intel==2.13.0->tensorflow) (4.7.2)\n",
      "Requirement already satisfied: urllib3<2.0 in c:\\users\\hp\\anaconda3\\lib\\site-packages (from google-auth<3,>=1.6.3->tensorboard<2.14,>=2.13->tensorflow-intel==2.13.0->tensorflow) (1.26.9)\n",
      "Requirement already satisfied: requests-oauthlib>=0.7.0 in c:\\users\\hp\\anaconda3\\lib\\site-packages (from google-auth-oauthlib<1.1,>=0.5->tensorboard<2.14,>=2.13->tensorflow-intel==2.13.0->tensorflow) (1.3.1)\n",
      "Requirement already satisfied: pyasn1<0.5.0,>=0.4.6 in c:\\users\\hp\\anaconda3\\lib\\site-packages (from pyasn1-modules>=0.2.1->google-auth<3,>=1.6.3->tensorboard<2.14,>=2.13->tensorflow-intel==2.13.0->tensorflow) (0.4.8)\n",
      "Requirement already satisfied: certifi>=2017.4.17 in c:\\users\\hp\\anaconda3\\lib\\site-packages (from requests<3,>=2.21.0->tensorboard<2.14,>=2.13->tensorflow-intel==2.13.0->tensorflow) (2021.10.8)\n",
      "Requirement already satisfied: charset-normalizer~=2.0.0 in c:\\users\\hp\\anaconda3\\lib\\site-packages (from requests<3,>=2.21.0->tensorboard<2.14,>=2.13->tensorflow-intel==2.13.0->tensorflow) (2.0.4)\n",
      "Requirement already satisfied: idna<4,>=2.5 in c:\\users\\hp\\anaconda3\\lib\\site-packages (from requests<3,>=2.21.0->tensorboard<2.14,>=2.13->tensorflow-intel==2.13.0->tensorflow) (3.3)\n",
      "Requirement already satisfied: oauthlib>=3.0.0 in c:\\users\\hp\\anaconda3\\lib\\site-packages (from requests-oauthlib>=0.7.0->google-auth-oauthlib<1.1,>=0.5->tensorboard<2.14,>=2.13->tensorflow-intel==2.13.0->tensorflow) (3.2.2)\n",
      "Requirement already satisfied: pyparsing!=3.0.5,>=2.0.2 in c:\\users\\hp\\anaconda3\\lib\\site-packages (from packaging->tensorflow-intel==2.13.0->tensorflow) (3.0.4)\n",
      "Note: you may need to restart the kernel to use updated packages.\n"
     ]
    }
   ],
   "source": [
    "pip install tensorflow"
   ]
  },
  {
   "cell_type": "markdown",
   "id": "b2e45524",
   "metadata": {},
   "source": [
    "import libraries"
   ]
  },
  {
   "cell_type": "code",
   "execution_count": 3,
   "id": "5ef75b8e",
   "metadata": {},
   "outputs": [
    {
     "name": "stderr",
     "output_type": "stream",
     "text": [
      "C:\\Users\\Hp\\anaconda3\\lib\\site-packages\\scipy\\__init__.py:146: UserWarning: A NumPy version >=1.16.5 and <1.23.0 is required for this version of SciPy (detected version 1.24.3\n",
      "  warnings.warn(f\"A NumPy version >={np_minversion} and <{np_maxversion}\"\n"
     ]
    }
   ],
   "source": [
    "import tensorflow as tf\n",
    "from keras.preprocessing.image import ImageDataGenerator"
   ]
  },
  {
   "cell_type": "code",
   "execution_count": 4,
   "id": "2ffbf536",
   "metadata": {},
   "outputs": [
    {
     "data": {
      "text/plain": [
       "'2.13.0'"
      ]
     },
     "execution_count": 4,
     "metadata": {},
     "output_type": "execute_result"
    }
   ],
   "source": [
    "tf.__version__"
   ]
  },
  {
   "cell_type": "markdown",
   "id": "b71d8100",
   "metadata": {},
   "source": [
    "# Data Preprocessing"
   ]
  },
  {
   "cell_type": "markdown",
   "id": "05e7b651",
   "metadata": {},
   "source": [
    "Preprocessing the Training set"
   ]
  },
  {
   "cell_type": "code",
   "execution_count": 5,
   "id": "6c4543b5",
   "metadata": {},
   "outputs": [
    {
     "name": "stdout",
     "output_type": "stream",
     "text": [
      "Found 8000 images belonging to 2 classes.\n"
     ]
    }
   ],
   "source": [
    "train_datagen=ImageDataGenerator(rescale=1./255,\n",
    "                                 shear_range=0.2,\n",
    "                                 zoom_range=0.2,\n",
    "                                horizontal_flip=True,\n",
    "                                rotation_range=40,\n",
    "                                width_shift_range=0.2,\n",
    "                                height_shift_range=0.2)\n",
    "training_set=train_datagen.flow_from_directory(\"C:\\\\Users\\\\Hp\\\\OneDrive\\\\Desktop\\\\ML\\\\training_set\",\n",
    "                                              target_size=(64,64),\n",
    "                                               batch_size=32,\n",
    "                                              class_mode='binary')"
   ]
  },
  {
   "cell_type": "markdown",
   "id": "5e45ee5a",
   "metadata": {},
   "source": [
    "Preprocessinh the Test set"
   ]
  },
  {
   "cell_type": "code",
   "execution_count": 6,
   "id": "c9ce9479",
   "metadata": {},
   "outputs": [
    {
     "name": "stdout",
     "output_type": "stream",
     "text": [
      "Found 2000 images belonging to 2 classes.\n"
     ]
    }
   ],
   "source": [
    "test_datagen=ImageDataGenerator(rescale=1./255,)\n",
    "test_set=train_datagen.flow_from_directory(\"C:\\\\Users\\\\Hp\\\\OneDrive\\\\Desktop\\\\ML\\\\test_set\",\n",
    "                                              target_size=(64,64),\n",
    "                                               batch_size=32,\n",
    "                                              class_mode='binary')\n"
   ]
  },
  {
   "cell_type": "markdown",
   "id": "a8afaf93",
   "metadata": {},
   "source": [
    "# Bulding the CNN"
   ]
  },
  {
   "cell_type": "markdown",
   "id": "e3ff1177",
   "metadata": {},
   "source": [
    "initialising the CNN"
   ]
  },
  {
   "cell_type": "code",
   "execution_count": 7,
   "id": "d7e00d5f",
   "metadata": {},
   "outputs": [],
   "source": [
    "cnn=tf.keras.models.Sequential()"
   ]
  },
  {
   "cell_type": "markdown",
   "id": "517b62fe",
   "metadata": {},
   "source": [
    "step 1:- convolution"
   ]
  },
  {
   "cell_type": "code",
   "execution_count": 8,
   "id": "7c479dc4",
   "metadata": {},
   "outputs": [],
   "source": [
    "cnn.add(tf.keras.layers.Conv2D(filters=32,\n",
    "                              kernel_size=3,\n",
    "                              activation='relu',\n",
    "                              input_shape=[64,64,3]))"
   ]
  },
  {
   "cell_type": "markdown",
   "id": "faccff8c",
   "metadata": {},
   "source": [
    "step 2:- Pooling"
   ]
  },
  {
   "cell_type": "code",
   "execution_count": 9,
   "id": "a1acb998",
   "metadata": {},
   "outputs": [],
   "source": [
    "cnn.add(tf.keras.layers.MaxPool2D(pool_size=2,strides=2))"
   ]
  },
  {
   "cell_type": "markdown",
   "id": "5e2b83e3",
   "metadata": {},
   "source": [
    "Adding a second Conolution layer"
   ]
  },
  {
   "cell_type": "code",
   "execution_count": 10,
   "id": "4c45b343",
   "metadata": {},
   "outputs": [],
   "source": [
    "cnn.add(tf.keras.layers.Conv2D(filters=32,\n",
    "                              kernel_size=3,\n",
    "                              activation='relu'))\n",
    "cnn.add(tf.keras.layers.MaxPool2D(pool_size=2,strides=2))"
   ]
  },
  {
   "cell_type": "markdown",
   "id": "5ecfb173",
   "metadata": {},
   "source": [
    "step 3:- Flattening"
   ]
  },
  {
   "cell_type": "code",
   "execution_count": 11,
   "id": "cd8552ef",
   "metadata": {},
   "outputs": [],
   "source": [
    "cnn.add(tf.keras.layers.Flatten())"
   ]
  },
  {
   "cell_type": "markdown",
   "id": "f290efae",
   "metadata": {},
   "source": [
    "step 4:- Full connection"
   ]
  },
  {
   "cell_type": "code",
   "execution_count": 12,
   "id": "449063fb",
   "metadata": {},
   "outputs": [],
   "source": [
    "cnn.add(tf.keras.layers.Dense(units=128,activation='relu'))"
   ]
  },
  {
   "cell_type": "markdown",
   "id": "6656acf7",
   "metadata": {},
   "source": [
    "output layer"
   ]
  },
  {
   "cell_type": "code",
   "execution_count": 13,
   "id": "d2046e2b",
   "metadata": {},
   "outputs": [],
   "source": [
    "cnn.add(tf.keras.layers.Dense(units=1,activation='sigmoid'))"
   ]
  },
  {
   "cell_type": "markdown",
   "id": "5d07208c",
   "metadata": {},
   "source": [
    "# Training the CNN"
   ]
  },
  {
   "cell_type": "markdown",
   "id": "3f0b3f5b",
   "metadata": {},
   "source": [
    "Compilling the CNN"
   ]
  },
  {
   "cell_type": "code",
   "execution_count": 14,
   "id": "15bd58ad",
   "metadata": {},
   "outputs": [],
   "source": [
    "cnn.compile(optimizer = 'adam', loss = 'binary_crossentropy', metrics = ['accuracy'])"
   ]
  },
  {
   "cell_type": "markdown",
   "id": "ae0135e5",
   "metadata": {},
   "source": [
    "Training the CNN on the Training set and evaluating it on the Test set¶"
   ]
  },
  {
   "cell_type": "code",
   "execution_count": 15,
   "id": "41f020bf",
   "metadata": {},
   "outputs": [
    {
     "name": "stdout",
     "output_type": "stream",
     "text": [
      "Epoch 1/25\n",
      "250/250 [==============================] - 222s 860ms/step - loss: 0.6869 - accuracy: 0.5476 - val_loss: 0.6926 - val_accuracy: 0.5300\n",
      "Epoch 2/25\n",
      "250/250 [==============================] - 217s 869ms/step - loss: 0.6521 - accuracy: 0.6099 - val_loss: 0.6404 - val_accuracy: 0.6615\n",
      "Epoch 3/25\n",
      "250/250 [==============================] - 229s 916ms/step - loss: 0.6234 - accuracy: 0.6469 - val_loss: 0.6571 - val_accuracy: 0.6055\n",
      "Epoch 4/25\n",
      "250/250 [==============================] - 207s 826ms/step - loss: 0.6131 - accuracy: 0.6593 - val_loss: 0.6060 - val_accuracy: 0.6605\n",
      "Epoch 5/25\n",
      "250/250 [==============================] - 216s 864ms/step - loss: 0.5929 - accuracy: 0.6816 - val_loss: 0.5910 - val_accuracy: 0.6840\n",
      "Epoch 6/25\n",
      "250/250 [==============================] - 213s 852ms/step - loss: 0.5819 - accuracy: 0.6864 - val_loss: 0.5716 - val_accuracy: 0.6895\n",
      "Epoch 7/25\n",
      "250/250 [==============================] - 210s 839ms/step - loss: 0.5642 - accuracy: 0.6965 - val_loss: 0.5627 - val_accuracy: 0.7030\n",
      "Epoch 8/25\n",
      "250/250 [==============================] - 209s 836ms/step - loss: 0.5699 - accuracy: 0.7036 - val_loss: 0.5679 - val_accuracy: 0.7045\n",
      "Epoch 9/25\n",
      "250/250 [==============================] - 193s 770ms/step - loss: 0.5550 - accuracy: 0.7120 - val_loss: 0.5481 - val_accuracy: 0.7120\n",
      "Epoch 10/25\n",
      "250/250 [==============================] - 128s 514ms/step - loss: 0.5541 - accuracy: 0.7170 - val_loss: 0.5500 - val_accuracy: 0.7135\n",
      "Epoch 11/25\n",
      "250/250 [==============================] - 130s 520ms/step - loss: 0.5434 - accuracy: 0.7194 - val_loss: 0.5385 - val_accuracy: 0.7285\n",
      "Epoch 12/25\n",
      "250/250 [==============================] - 132s 527ms/step - loss: 0.5392 - accuracy: 0.7256 - val_loss: 0.5359 - val_accuracy: 0.7335\n",
      "Epoch 13/25\n",
      "250/250 [==============================] - 129s 516ms/step - loss: 0.5340 - accuracy: 0.7341 - val_loss: 0.5375 - val_accuracy: 0.7185\n",
      "Epoch 14/25\n",
      "250/250 [==============================] - 132s 527ms/step - loss: 0.5290 - accuracy: 0.7322 - val_loss: 0.5278 - val_accuracy: 0.7310\n",
      "Epoch 15/25\n",
      "250/250 [==============================] - 137s 546ms/step - loss: 0.5232 - accuracy: 0.7350 - val_loss: 0.5322 - val_accuracy: 0.7230\n",
      "Epoch 16/25\n",
      "250/250 [==============================] - 185s 740ms/step - loss: 0.5174 - accuracy: 0.7385 - val_loss: 0.5173 - val_accuracy: 0.7395\n",
      "Epoch 17/25\n",
      "250/250 [==============================] - 146s 584ms/step - loss: 0.5158 - accuracy: 0.7449 - val_loss: 0.5211 - val_accuracy: 0.7310\n",
      "Epoch 18/25\n",
      "250/250 [==============================] - 118s 472ms/step - loss: 0.5187 - accuracy: 0.7377 - val_loss: 0.5253 - val_accuracy: 0.7475\n",
      "Epoch 19/25\n",
      "250/250 [==============================] - 91s 365ms/step - loss: 0.5141 - accuracy: 0.7476 - val_loss: 0.5269 - val_accuracy: 0.7305\n",
      "Epoch 20/25\n",
      "250/250 [==============================] - 88s 350ms/step - loss: 0.5123 - accuracy: 0.7481 - val_loss: 0.5129 - val_accuracy: 0.7435\n",
      "Epoch 21/25\n",
      "250/250 [==============================] - 82s 327ms/step - loss: 0.5058 - accuracy: 0.7558 - val_loss: 0.5179 - val_accuracy: 0.7340\n",
      "Epoch 22/25\n",
      "250/250 [==============================] - 83s 330ms/step - loss: 0.4987 - accuracy: 0.7573 - val_loss: 0.5174 - val_accuracy: 0.7520\n",
      "Epoch 23/25\n",
      "250/250 [==============================] - 82s 328ms/step - loss: 0.4997 - accuracy: 0.7496 - val_loss: 0.5152 - val_accuracy: 0.7530\n",
      "Epoch 24/25\n",
      "250/250 [==============================] - 60s 238ms/step - loss: 0.5015 - accuracy: 0.7506 - val_loss: 0.5026 - val_accuracy: 0.7580\n",
      "Epoch 25/25\n",
      "250/250 [==============================] - 57s 228ms/step - loss: 0.4912 - accuracy: 0.7620 - val_loss: 0.5000 - val_accuracy: 0.7605\n"
     ]
    },
    {
     "data": {
      "text/plain": [
       "<keras.src.callbacks.History at 0x20e5fdb7700>"
      ]
     },
     "execution_count": 15,
     "metadata": {},
     "output_type": "execute_result"
    }
   ],
   "source": [
    "cnn.fit(x = training_set, validation_data = test_set, epochs = 25)"
   ]
  },
  {
   "cell_type": "markdown",
   "id": "d33c13ea",
   "metadata": {},
   "source": [
    "# Part 4 - Making a single prediction"
   ]
  },
  {
   "cell_type": "code",
   "execution_count": null,
   "id": "763b706d",
   "metadata": {},
   "outputs": [],
   "source": [
    "import numpy as np\n",
    "from keras.preprocessing import image\n",
    "test_image = image.load_img(\"C:\\Users\\Hp\\OneDrive\\Desktop\\ML\\cats_dogs\\single_prediction\\cat_dog.jpg\", target_size = (64, 64))\n",
    "test_image = image.img_to_array(test_image)\n",
    "test_image = np.expand_dims(test_image, axis = 0)\n",
    "result = cnn.predict(test_image)\n",
    "training_set.class_indices\n",
    "if result[0][0] == 1:\n",
    "  prediction = 'dog'\n",
    "else:\n",
    "  prediction = 'cat'"
   ]
  }
 ],
 "metadata": {
  "kernelspec": {
   "display_name": "Python 3 (ipykernel)",
   "language": "python",
   "name": "python3"
  },
  "language_info": {
   "codemirror_mode": {
    "name": "ipython",
    "version": 3
   },
   "file_extension": ".py",
   "mimetype": "text/x-python",
   "name": "python",
   "nbconvert_exporter": "python",
   "pygments_lexer": "ipython3",
   "version": "3.9.12"
  }
 },
 "nbformat": 4,
 "nbformat_minor": 5
}
